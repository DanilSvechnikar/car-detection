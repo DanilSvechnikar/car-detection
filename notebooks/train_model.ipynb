{
 "cells": [
  {
   "cell_type": "code",
   "id": "1",
   "metadata": {
    "ExecuteTime": {
     "end_time": "2024-10-23T05:48:02.834202Z",
     "start_time": "2024-10-23T05:48:02.743432Z"
    }
   },
   "source": [
    "%load_ext autoreload\n",
    "%autoreload 2\n",
    "\n",
    "from csv import DictWriter\n",
    "\n",
    "import torch.cuda\n",
    "from clearml import Task\n",
    "from ultralytics import YOLO\n",
    "from omegaconf import OmegaConf\n",
    "\n",
    "from car_detection import cuda_utils\n",
    "from car_detection import (\n",
    "    PROJ_ROOT, PROCESSED_DATA_DIR, CONFIG_DIR, MODELS_DIR,\n",
    ")"
   ],
   "outputs": [
    {
     "name": "stdout",
     "output_type": "stream",
     "text": [
      "The autoreload extension is already loaded. To reload it, use:\n",
      "  %reload_ext autoreload\n"
     ]
    }
   ],
   "execution_count": 2
  },
  {
   "metadata": {},
   "cell_type": "code",
   "source": [
    "config_fname = \"train.yaml\"\n",
    "config_path = CONFIG_DIR / config_fname\n",
    "cfg = OmegaConf.load(config_path)"
   ],
   "id": "a77e6599dc1a1816",
   "outputs": [],
   "execution_count": null
  },
  {
   "cell_type": "code",
   "id": "2",
   "metadata": {},
   "source": [
    "model_name = \"yolov11n.pt\"\n",
    "dataset_name = \"car_dataset\""
   ],
   "outputs": [],
   "execution_count": null
  },
  {
   "cell_type": "code",
   "id": "3",
   "metadata": {},
   "source": [
    "if cfg.clearml_enable:\n",
    "    task = Task.init(\n",
    "        project_name=cfg.clearml_proj_name,\n",
    "        task_name=cfg.task_name,\n",
    "        reuse_last_task_id=False,\n",
    "    )"
   ],
   "outputs": [],
   "execution_count": null
  },
  {
   "cell_type": "code",
   "id": "4",
   "metadata": {},
   "source": [
    "config_fname = \"data.yaml\"\n",
    "config_data_fpath = PROCESSED_DATA_DIR / cfg.dataset_name / config_fname\n",
    "save_exp_dir = PROJ_ROOT / cfg.save_exp_dir"
   ],
   "outputs": [],
   "execution_count": null
  },
  {
   "cell_type": "code",
   "id": "5",
   "metadata": {},
   "source": "model = YOLO(cfg.model_name)",
   "outputs": [],
   "execution_count": null
  },
  {
   "metadata": {},
   "cell_type": "code",
   "source": [
    "cuda_utils.print_cuda_available()\n",
    "cuda_utils.print_cuda_info()"
   ],
   "id": "859343463c76bb3b",
   "outputs": [],
   "execution_count": null
  },
  {
   "metadata": {},
   "cell_type": "markdown",
   "source": "### Train",
   "id": "2d18ad1c27f2af29"
  },
  {
   "cell_type": "code",
   "id": "7",
   "metadata": {},
   "source": [
    "train_params = {\n",
    "    \"data\": config_data_fpath,\n",
    "    \"project\": save_exp_dir,\n",
    "    \"device\": \"cuda\" if torch.cuda.is_available() else \"cpu\",\n",
    "    **cfg.model,\n",
    "}\n",
    "\n",
    "torch.cuda.empty_cache()\n",
    "model.train(**train_params)"
   ],
   "outputs": [],
   "execution_count": null
  },
  {
   "metadata": {},
   "cell_type": "markdown",
   "source": "### Test",
   "id": "3655adaa8c381900"
  },
  {
   "cell_type": "code",
   "id": "9",
   "metadata": {},
   "source": [
    "best_model_path = MODELS_DIR / \"yolov11n_best.pt\"\n",
    "best_model = YOLO(best_model_path)"
   ],
   "outputs": [],
   "execution_count": null
  },
  {
   "metadata": {},
   "cell_type": "code",
   "source": [
    "test_params = {\n",
    "    \"project\": save_exp_dir, \"split\": \"test\",\n",
    "}\n",
    "\n",
    "torch.cuda.empty_cache()\n",
    "results = best_model.val(**test_params)"
   ],
   "id": "cf2576768a8a236f",
   "outputs": [],
   "execution_count": null
  },
  {
   "metadata": {},
   "cell_type": "code",
   "source": [
    "metrics_csv_path = results.save_dir / \"results.csv\"\n",
    "\n",
    "with open(metrics_csv_path, \"w\") as csvfile: \n",
    "    writer = DictWriter(csvfile, fieldnames=results.results_dict) \n",
    "    writer.writeheader() \n",
    "    writer.writerows([results.results_dict]) "
   ],
   "id": "dfaf71d627a17802",
   "outputs": [],
   "execution_count": null
  },
  {
   "metadata": {},
   "cell_type": "code",
   "source": [
    "if cfg.clearml_enable:\n",
    "    task.close()"
   ],
   "id": "b07c6cc1840abda9",
   "outputs": [],
   "execution_count": null
  },
  {
   "metadata": {},
   "cell_type": "code",
   "source": "",
   "id": "21ca8c2f5dff1d8c",
   "outputs": [],
   "execution_count": null
  }
 ],
 "metadata": {
  "kernelspec": {
   "display_name": "Python 3",
   "language": "python",
   "name": "python3"
  },
  "language_info": {
   "codemirror_mode": {
    "name": "ipython",
    "version": 2
   },
   "file_extension": ".py",
   "mimetype": "text/x-python",
   "name": "python",
   "nbconvert_exporter": "python",
   "pygments_lexer": "ipython2",
   "version": "2.7.6"
  }
 },
 "nbformat": 4,
 "nbformat_minor": 5
}
