{
 "cells": [
  {
   "cell_type": "code",
   "id": "initial_id",
   "metadata": {
    "collapsed": true,
    "ExecuteTime": {
     "end_time": "2024-10-23T06:06:44.343310Z",
     "start_time": "2024-10-23T06:06:43.493295Z"
    }
   },
   "source": [
    "%load_ext autoreload\n",
    "%autoreload 2\n",
    "\n",
    "import cv2\n",
    "import pandas as pd\n",
    "from tqdm import tqdm\n",
    "\n",
    "from car_detection import RAW_DATA_DIR, PROCESSED_DATA_DIR\n",
    "from car_detection.box_utils import scale_bbox, bbox2yolo, save_bboxes\n",
    "from car_detection.image_utils import resize_with_pad"
   ],
   "outputs": [],
   "execution_count": 1
  },
  {
   "metadata": {},
   "cell_type": "code",
   "source": [
    "# Raw data paths\n",
    "images_dname = \"images\"\n",
    "labels_fname = \"labels.csv\"\n",
    "\n",
    "raw_images_dpath = RAW_DATA_DIR / images_dname\n",
    "raw_labels_fpath = RAW_DATA_DIR / labels_fname"
   ],
   "id": "fbe48be572fce73f",
   "outputs": [],
   "execution_count": null
  },
  {
   "metadata": {},
   "cell_type": "code",
   "source": [
    "# Processed data paths\n",
    "processed_labels_dname = \"labels\"\n",
    "\n",
    "processed_imgs_dpath = PROCESSED_DATA_DIR / images_dname\n",
    "processed_labels_dpath = PROCESSED_DATA_DIR / processed_labels_dname\n",
    "\n",
    "processed_imgs_dpath.mkdir(exist_ok=True)\n",
    "processed_labels_dpath.mkdir(exist_ok=True)"
   ],
   "id": "311e60cff6a00ba5",
   "outputs": [],
   "execution_count": null
  },
  {
   "metadata": {},
   "cell_type": "code",
   "source": [
    "lst_images_dir = list(raw_images_dpath.rglob(\"*.[jpg][png][jpeg]\"))\n",
    "len(lst_images_dir), lst_images_dir[:3]"
   ],
   "id": "dded74e4b6669974",
   "outputs": [],
   "execution_count": null
  },
  {
   "metadata": {},
   "cell_type": "code",
   "source": [
    "labels_df = pd.read_csv(raw_labels_fpath)\n",
    "labels_df.head()"
   ],
   "id": "f3e0597d8a65e3ec",
   "outputs": [],
   "execution_count": null
  },
  {
   "metadata": {},
   "cell_type": "code",
   "source": [
    "img_names, bboxes = labels_df.iloc[:, 0].to_numpy(), labels_df.iloc[:, 1:].to_numpy()\n",
    "img_names[:3], bboxes[:3]"
   ],
   "id": "8a99cb3542e10320",
   "outputs": [],
   "execution_count": null
  },
  {
   "metadata": {},
   "cell_type": "markdown",
   "source": "### Scale bboxes to 640x640 && format to normalized xywh",
   "id": "b7d582f7c61da17b"
  },
  {
   "metadata": {},
   "cell_type": "code",
   "source": [
    "orig_imgsz = (380, 676)\n",
    "target_imgsz = (640, 640)\n",
    "\n",
    "resized_bboxes = [scale_bbox(bbox, orig_imgsz, target_imgsz) for bbox in bboxes]\n",
    "xywh_norm_bboxes = [bbox2yolo(bbox, target_imgsz) for bbox in resized_bboxes]"
   ],
   "id": "861a06c26f0af36c",
   "outputs": [],
   "execution_count": null
  },
  {
   "metadata": {},
   "cell_type": "code",
   "source": [
    "# Write bboxes to txt files\n",
    "marked_imgs_dpath = set()\n",
    "for img_name, bbox in tqdm(zip(img_names, xywh_norm_bboxes), desc=\"Labels\", total=len(img_names)):\n",
    "    img_fpath = raw_images_dpath / img_name\n",
    "    marked_imgs_dpath.add(img_fpath)\n",
    "    \n",
    "    label_fname = f\"{img_fpath.stem}.txt\"\n",
    "    label_fpath = processed_labels_dpath / label_fname\n",
    "    \n",
    "    save_bboxes(label_fpath, [bbox], [0])"
   ],
   "id": "e4f6ace69e98bf7e",
   "outputs": [],
   "execution_count": null
  },
  {
   "metadata": {},
   "cell_type": "markdown",
   "source": "### Resize images (with markup only) with aspect ratio And save",
   "id": "2219005427c8fac0"
  },
  {
   "metadata": {},
   "cell_type": "code",
   "source": [
    "# Images with markup\n",
    "len(marked_imgs_dpath)"
   ],
   "id": "fcb971461796ddb4",
   "outputs": [],
   "execution_count": null
  },
  {
   "metadata": {},
   "cell_type": "code",
   "source": [
    "for img_fpath in tqdm(marked_imgs_dpath):\n",
    "    img = cv2.imread(img_fpath)\n",
    "    resized_img = resize_with_pad(img, target_imgsz)\n",
    "\n",
    "    resized_img_fpath = processed_imgs_dpath / img_fpath.name\n",
    "    cv2.imwrite(resized_img_fpath, resized_img)"
   ],
   "id": "d443041047c01f9d",
   "outputs": [],
   "execution_count": null
  },
  {
   "metadata": {},
   "cell_type": "code",
   "source": "",
   "id": "8e43b2b69a66ee56",
   "outputs": [],
   "execution_count": null
  }
 ],
 "metadata": {
  "kernelspec": {
   "display_name": "Python 3",
   "language": "python",
   "name": "python3"
  },
  "language_info": {
   "codemirror_mode": {
    "name": "ipython",
    "version": 2
   },
   "file_extension": ".py",
   "mimetype": "text/x-python",
   "name": "python",
   "nbconvert_exporter": "python",
   "pygments_lexer": "ipython2",
   "version": "2.7.6"
  }
 },
 "nbformat": 4,
 "nbformat_minor": 5
}
